{
  "nbformat": 4,
  "nbformat_minor": 0,
  "metadata": {
    "colab": {
      "provenance": [],
      "mount_file_id": "1jR8wvclqoYw_Py8Mbo0SE3GqDFaLJGbA",
      "authorship_tag": "ABX9TyMq5+cXQP1SpXU+G/ECpdEo"
    },
    "kernelspec": {
      "name": "python3",
      "display_name": "Python 3"
    },
    "language_info": {
      "name": "python"
    }
  },
  "cells": [
    {
      "cell_type": "code",
      "execution_count": 1,
      "metadata": {
        "colab": {
          "base_uri": "https://localhost:8080/"
        },
        "id": "C9SiWybdlOpz",
        "outputId": "c3ea9006-7863-4c3d-9de8-a2080fb96856"
      },
      "outputs": [
        {
          "output_type": "stream",
          "name": "stdout",
          "text": [
            "Requirement already satisfied: pyspark in /usr/local/lib/python3.11/dist-packages (3.5.1)\n",
            "Requirement already satisfied: py4j==0.10.9.7 in /usr/local/lib/python3.11/dist-packages (from pyspark) (0.10.9.7)\n"
          ]
        }
      ],
      "source": [
        "!pip install pyspark"
      ]
    },
    {
      "cell_type": "markdown",
      "source": [
        "**Now Load the File Using PySpark**"
      ],
      "metadata": {
        "id": "8yPPcYlPq1Dg"
      }
    },
    {
      "cell_type": "code",
      "source": [
        "from pyspark.sql import SparkSession\n",
        "\n",
        "# Start Spark session\n",
        "spark = SparkSession.builder.appName(\"ManufacturingMonitor\").getOrCreate()\n",
        "\n",
        "# Read the uploaded CSV file\n",
        "df = spark.read.csv(\"/content/drive/MyDrive/Colab Notebooks/Source Data/dataset.csv\", header=True, inferSchema=True)\n",
        "\n",
        "# Display the schema\n",
        "df.printSchema()\n",
        "\n",
        "# Show sample data\n",
        "df.show(5)\n"
      ],
      "metadata": {
        "colab": {
          "base_uri": "https://localhost:8080/"
        },
        "id": "9IzT8CK-qIBe",
        "outputId": "6f17bd0e-6812-4866-c833-26a3b014f22e"
      },
      "execution_count": 2,
      "outputs": [
        {
          "output_type": "stream",
          "name": "stdout",
          "text": [
            "root\n",
            " |-- ID: integer (nullable = true)\n",
            " |-- Timestamp: timestamp (nullable = true)\n",
            " |-- SensorReading: double (nullable = true)\n",
            " |-- MachineStatus: string (nullable = true)\n",
            " |-- QualityCheck: boolean (nullable = true)\n",
            " |-- ProductCount: integer (nullable = true)\n",
            "\n",
            "+---+--------------------+------------------+-------------+------------+------------+\n",
            "| ID|           Timestamp|     SensorReading|MachineStatus|QualityCheck|ProductCount|\n",
            "+---+--------------------+------------------+-------------+------------+------------+\n",
            "|  1|2023-11-22 09:24:...|43.081004305053725|      Standby|        true|          21|\n",
            "|  2|2023-11-21 09:24:...| 71.31249095658937|           On|        true|          18|\n",
            "|  3|2023-11-20 09:24:...|19.096744555580937|      Standby|       false|          10|\n",
            "|  4|2023-11-19 09:24:...|28.951475117230828|           On|        true|          24|\n",
            "|  5|2023-11-18 09:24:...|46.283913967493504|      Standby|        true|          23|\n",
            "+---+--------------------+------------------+-------------+------------+------------+\n",
            "only showing top 5 rows\n",
            "\n"
          ]
        }
      ]
    },
    {
      "cell_type": "markdown",
      "source": [
        "**Clean and Transform the Manufacturing Data**"
      ],
      "metadata": {
        "id": "Rbp8YPOYraYn"
      }
    },
    {
      "cell_type": "code",
      "source": [
        "from pyspark.sql.functions import col, isnan, when, count\n",
        "from pyspark.sql.types import FloatType, DoubleType, IntegerType, LongType\n",
        "\n",
        "# Get data types of each column\n",
        "numeric_types = (FloatType, DoubleType, IntegerType, LongType)\n",
        "\n",
        "null_exprs = []\n",
        "\n",
        "for column in df.columns:\n",
        "    data_type = [field.dataType for field in df.schema.fields if field.name == column][0]\n",
        "    if isinstance(data_type, numeric_types):\n",
        "        null_exprs.append(count(when(col(column).isNull() | isnan(col(column)), column)).alias(column))\n",
        "    else:\n",
        "        null_exprs.append(count(when(col(column).isNull(), column)).alias(column))\n",
        "\n",
        "df.select(null_exprs).show()\n"
      ],
      "metadata": {
        "colab": {
          "base_uri": "https://localhost:8080/"
        },
        "id": "zrAaqoNhrRWs",
        "outputId": "c9f84a27-7aee-4581-d6f4-1b9204ffe14b"
      },
      "execution_count": 4,
      "outputs": [
        {
          "output_type": "stream",
          "name": "stdout",
          "text": [
            "+---+---------+-------------+-------------+------------+------------+\n",
            "| ID|Timestamp|SensorReading|MachineStatus|QualityCheck|ProductCount|\n",
            "+---+---------+-------------+-------------+------------+------------+\n",
            "|  0|        0|            0|            0|           0|           0|\n",
            "+---+---------+-------------+-------------+------------+------------+\n",
            "\n"
          ]
        }
      ]
    },
    {
      "cell_type": "markdown",
      "source": [
        "**Export Cleaned Data from PySpark to CSV (for Tableau)**"
      ],
      "metadata": {
        "id": "fY79DB-LtFjo"
      }
    },
    {
      "cell_type": "code",
      "source": [
        "# Save to CSV (in Google Colab environment)\n",
        "df.coalesce(1).write.option(\"header\", \"true\").csv(\"/content/cleaned_manufacturing_data\")"
      ],
      "metadata": {
        "id": "FOwdwJ4ZsMYK"
      },
      "execution_count": 5,
      "outputs": []
    },
    {
      "cell_type": "code",
      "source": [
        "# Zip the output folder so you can download it\n",
        "!zip -r /content/cleaned_manufacturing_data.zip /content/cleaned_manufacturing_data"
      ],
      "metadata": {
        "colab": {
          "base_uri": "https://localhost:8080/"
        },
        "id": "u-tUFHH0tTKJ",
        "outputId": "dbe1c04a-013e-4257-8af4-9d17497b6c9d"
      },
      "execution_count": 6,
      "outputs": [
        {
          "output_type": "stream",
          "name": "stdout",
          "text": [
            "  adding: content/cleaned_manufacturing_data/ (stored 0%)\n",
            "  adding: content/cleaned_manufacturing_data/part-00000-1d7d013d-9e7c-4c93-b139-742583de3c87-c000.csv (deflated 70%)\n",
            "  adding: content/cleaned_manufacturing_data/.part-00000-1d7d013d-9e7c-4c93-b139-742583de3c87-c000.csv.crc (stored 0%)\n",
            "  adding: content/cleaned_manufacturing_data/_SUCCESS (stored 0%)\n",
            "  adding: content/cleaned_manufacturing_data/._SUCCESS.crc (stored 0%)\n"
          ]
        }
      ]
    },
    {
      "cell_type": "code",
      "source": [
        "from google.colab import files\n",
        "files.download(\"/content/cleaned_manufacturing_data.zip\")"
      ],
      "metadata": {
        "colab": {
          "base_uri": "https://localhost:8080/",
          "height": 17
        },
        "id": "UJo2H0JZtVhy",
        "outputId": "84f8c757-c0b5-44aa-b078-ef5d94b0f6d2"
      },
      "execution_count": 7,
      "outputs": [
        {
          "output_type": "display_data",
          "data": {
            "text/plain": [
              "<IPython.core.display.Javascript object>"
            ],
            "application/javascript": [
              "\n",
              "    async function download(id, filename, size) {\n",
              "      if (!google.colab.kernel.accessAllowed) {\n",
              "        return;\n",
              "      }\n",
              "      const div = document.createElement('div');\n",
              "      const label = document.createElement('label');\n",
              "      label.textContent = `Downloading \"${filename}\": `;\n",
              "      div.appendChild(label);\n",
              "      const progress = document.createElement('progress');\n",
              "      progress.max = size;\n",
              "      div.appendChild(progress);\n",
              "      document.body.appendChild(div);\n",
              "\n",
              "      const buffers = [];\n",
              "      let downloaded = 0;\n",
              "\n",
              "      const channel = await google.colab.kernel.comms.open(id);\n",
              "      // Send a message to notify the kernel that we're ready.\n",
              "      channel.send({})\n",
              "\n",
              "      for await (const message of channel.messages) {\n",
              "        // Send a message to notify the kernel that we're ready.\n",
              "        channel.send({})\n",
              "        if (message.buffers) {\n",
              "          for (const buffer of message.buffers) {\n",
              "            buffers.push(buffer);\n",
              "            downloaded += buffer.byteLength;\n",
              "            progress.value = downloaded;\n",
              "          }\n",
              "        }\n",
              "      }\n",
              "      const blob = new Blob(buffers, {type: 'application/binary'});\n",
              "      const a = document.createElement('a');\n",
              "      a.href = window.URL.createObjectURL(blob);\n",
              "      a.download = filename;\n",
              "      div.appendChild(a);\n",
              "      a.click();\n",
              "      div.remove();\n",
              "    }\n",
              "  "
            ]
          },
          "metadata": {}
        },
        {
          "output_type": "display_data",
          "data": {
            "text/plain": [
              "<IPython.core.display.Javascript object>"
            ],
            "application/javascript": [
              "download(\"download_19ffe1de-24f5-4ba4-bcb4-96b34e7b1be9\", \"cleaned_manufacturing_data.zip\", 19931)"
            ]
          },
          "metadata": {}
        }
      ]
    },
    {
      "cell_type": "markdown",
      "source": [
        "## **Project Summary: Automated Production Defect Dashboard using Python & Tableau**\n",
        "\n",
        "### **Objective:**\n",
        "\n",
        "To build an automated and interactive Tableau dashboard that visualizes production defects and helps identify performance issues across different time periods, product lines, and shifts using data from a dynamic Excel file.\n",
        "\n",
        "---\n",
        "\n",
        "###  **Data Source:**\n",
        "\n",
        "* **Excel file** containing:\n",
        "\n",
        "  * Date of Inspection\n",
        "  * Product Line\n",
        "  * Shift (A/B/C)\n",
        "  * Total Units Inspected\n",
        "  * Total Defective Units\n",
        "\n",
        "---\n",
        "\n",
        "### **Key Features & Metrics:**\n",
        "\n",
        "1. **Defect Rate Calculation:**\n",
        "\n",
        "   * Formula: `(Defects / Total Inspected) × 100`\n",
        "   * Created as a **calculated field** in Tableau.\n",
        "\n",
        "2. **Interactive Charts Developed:**\n",
        "\n",
        "   * **Defect Trend Over Time** (Line Chart)\n",
        "\n",
        "     * Shows how defect rate changes daily or monthly.\n",
        "   * **Defect Rate by Shift** (Bar Chart)\n",
        "\n",
        "     * Compares defect rates across Shift A, B, and C.\n",
        "   * **Defect Rate by Product Line** (Bar or Tree Map)\n",
        "\n",
        "     * Highlights which product lines have higher defects.\n",
        "\n",
        "3. **Filters Added:**\n",
        "\n",
        "   * Date Range Selector\n",
        "   * Shift Filter\n",
        "   * Product Line Filter\n",
        "\n",
        "4. **Tooltips and Labels:**\n",
        "\n",
        "   * Dynamic percentages shown in all visualizations.\n",
        "   * Enhanced user interaction with visual tooltips.\n",
        "\n",
        "---\n",
        "\n",
        "### **Automation Setup:**\n",
        "\n",
        "* Tableau is connected to the Excel file such that any update to the Excel data:\n",
        "\n",
        "  * Automatically reflects in Tableau upon data refresh.\n",
        "  * No manual re-import or rework required.\n",
        "\n",
        "---\n",
        "\n",
        "### **Business Impact:**\n",
        "\n",
        "* Enables production teams and quality engineers to:\n",
        "\n",
        "  * Monitor real-time defect trends.\n",
        "  * Identify problematic shifts or product lines.\n",
        "  * Make quick decisions for process improvements.\n"
      ],
      "metadata": {
        "id": "1yM7YZ0TwX-1"
      }
    },
    {
      "cell_type": "code",
      "source": [],
      "metadata": {
        "id": "4KP7UdJ1tbdz"
      },
      "execution_count": null,
      "outputs": []
    }
  ]
}