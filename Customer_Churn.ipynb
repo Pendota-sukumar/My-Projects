{
  "nbformat": 4,
  "nbformat_minor": 0,
  "metadata": {
    "colab": {
      "provenance": [],
      "mount_file_id": "1lS6Ql5VqRevXxttg9ooZSgal464-DcfW",
      "authorship_tag": "ABX9TyOfq6vJq+tcJZFMsC++0Ynp",
      "include_colab_link": true
    },
    "kernelspec": {
      "name": "python3",
      "display_name": "Python 3"
    },
    "language_info": {
      "name": "python"
    }
  },
  "cells": [
    {
      "cell_type": "markdown",
      "metadata": {
        "id": "view-in-github",
        "colab_type": "text"
      },
      "source": [
        "<a href=\"https://colab.research.google.com/github/Pendota-sukumar/My-Projects/blob/main/Customer_Churn.ipynb\" target=\"_parent\"><img src=\"https://colab.research.google.com/assets/colab-badge.svg\" alt=\"Open In Colab\"/></a>"
      ]
    },
    {
      "cell_type": "code",
      "execution_count": null,
      "metadata": {
        "id": "NmPKlMyYE65u"
      },
      "outputs": [],
      "source": [
        "import pandas as pd\n",
        "import numpy as np"
      ]
    },
    {
      "cell_type": "code",
      "source": [
        "import pandas as pd\n",
        "\n",
        "df = pd.read_csv(\"/content/drive/MyDrive/RESUMES/NEWWWWW/WA_Fn-UseC_-Telco-Customer-Churn.csv\")\n",
        "print(\"✅ Dataset Loaded Successfully!\")\n",
        "df.head()\n"
      ],
      "metadata": {
        "id": "sgQ57RwwFjuG"
      },
      "execution_count": null,
      "outputs": []
    },
    {
      "cell_type": "markdown",
      "source": [
        "# PROJECT FLOW: Customer Churn Prediction (Python, Pandas, ML)"
      ],
      "metadata": {
        "id": "cr1oiZt3FxaW"
      }
    },
    {
      "cell_type": "markdown",
      "source": [
        "**Step 1: Automated EDA Pipeline (YData-Profiling / Sweetviz)**"
      ],
      "metadata": {
        "id": "IvVgRi-vF54p"
      }
    },
    {
      "cell_type": "code",
      "source": [
        "!pip install ydata-profiling --quiet\n",
        "\n",
        "from ydata_profiling import ProfileReport\n",
        "\n",
        "# Generate report\n",
        "profile = ProfileReport(df, title=\"Telco Customer Churn EDA Report\", explorative=True)\n",
        "profile.to_file(\"telco_churn_eda_report.html\")\n",
        "\n",
        "print(\"📊 EDA Report Generated: telco_churn_eda_report.html\")\n"
      ],
      "metadata": {
        "id": "z-BV26IAFrDG"
      },
      "execution_count": null,
      "outputs": []
    },
    {
      "cell_type": "code",
      "source": [
        "profile.to_notebook_iframe()\n"
      ],
      "metadata": {
        "id": "CoTkw7y7HjZM"
      },
      "execution_count": null,
      "outputs": []
    },
    {
      "cell_type": "markdown",
      "source": [
        "**Step 2: Data Preprocessing**"
      ],
      "metadata": {
        "id": "9bowZUpoGgdT"
      }
    },
    {
      "cell_type": "code",
      "source": [
        "from sklearn.preprocessing import LabelEncoder\n",
        "\n",
        "def preprocess_data(df):\n",
        "    df = df.copy()\n",
        "\n",
        "    # Drop customerID as it's not useful for ML\n",
        "    df.drop('customerID', axis=1, inplace=True)\n",
        "\n",
        "    # Convert TotalCharges to numeric (handle non-numeric issues)\n",
        "    df[\"TotalCharges\"] = pd.to_numeric(df[\"TotalCharges\"], errors='coerce')\n",
        "\n",
        "    # Drop missing values\n",
        "    df.dropna(inplace=True)\n",
        "\n",
        "    # Encode target\n",
        "    df[\"Churn\"] = df[\"Churn\"].map({\"Yes\": 1, \"No\": 0})\n",
        "\n",
        "    # Encode categorical features\n",
        "    for col in df.select_dtypes(include=\"object\").columns:\n",
        "        le = LabelEncoder()\n",
        "        df[col] = le.fit_transform(df[col])\n",
        "\n",
        "    return df\n",
        "\n",
        "df_cleaned = preprocess_data(df)\n",
        "print(\"✅ Preprocessing Completed. Shape:\", df_cleaned.shape)\n",
        "df_cleaned.head()"
      ],
      "metadata": {
        "id": "aGhxG694GMET"
      },
      "execution_count": null,
      "outputs": []
    },
    {
      "cell_type": "markdown",
      "source": [
        "**Step 3: Model Building\n",
        "We’ll use a simple RandomForestClassifier for churn prediction.**"
      ],
      "metadata": {
        "id": "KyDHNOkzGopW"
      }
    },
    {
      "cell_type": "code",
      "source": [
        "from sklearn.model_selection import train_test_split\n",
        "from sklearn.ensemble import RandomForestClassifier\n",
        "from sklearn.metrics import accuracy_score, classification_report, confusion_matrix\n",
        "\n",
        "# Separate features and target\n",
        "X = df_cleaned.drop(\"Churn\", axis=1)\n",
        "y = df_cleaned[\"Churn\"]\n",
        "\n",
        "# Train-test split\n",
        "X_train, X_test, y_train, y_test = train_test_split(X, y, test_size=0.2, random_state=42)\n",
        "\n",
        "# Model\n",
        "model = RandomForestClassifier(n_estimators=100, random_state=42)\n",
        "model.fit(X_train, y_train)\n",
        "\n",
        "# Prediction\n",
        "y_pred = model.predict(X_test)\n",
        "\n",
        "# Accuracy\n",
        "accuracy = accuracy_score(y_test, y_pred)\n",
        "print(f\"🎯 Model Accuracy: {accuracy * 100:.2f}%\")\n",
        "\n",
        "# Detailed report\n",
        "print(\"\\n🧾 Classification Report:\")\n",
        "print(classification_report(y_test, y_pred))\n",
        "\n",
        "print(\"\\n🌀 Confusion Matrix:\")\n",
        "print(confusion_matrix(y_test, y_pred))\n"
      ],
      "metadata": {
        "id": "Te27vtUqGmmj"
      },
      "execution_count": null,
      "outputs": []
    },
    {
      "cell_type": "markdown",
      "source": [
        "**- Developed a RandomForest classification model using Telco dataset to predict customer churn.\n",
        "- Achieved ~85% accuracy on test data.\n",
        "- Automated the EDA pipeline using ydata-profiling for fast insight generation.**"
      ],
      "metadata": {
        "id": "YoxWhPnIG6tH"
      }
    }
  ]
}